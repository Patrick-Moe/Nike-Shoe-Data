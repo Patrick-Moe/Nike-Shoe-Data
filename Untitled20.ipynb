{
  "nbformat": 4,
  "nbformat_minor": 0,
  "metadata": {
    "colab": {
      "provenance": [],
      "authorship_tag": "ABX9TyO/KcIOSXLoTu53rVJNDzTA",
      "include_colab_link": true
    },
    "kernelspec": {
      "name": "python3",
      "display_name": "Python 3"
    },
    "language_info": {
      "name": "python"
    }
  },
  "cells": [
    {
      "cell_type": "markdown",
      "metadata": {
        "id": "view-in-github",
        "colab_type": "text"
      },
      "source": [
        "<a href=\"https://colab.research.google.com/github/Patrick-Moe/Repository-1/blob/Excess/Untitled20.ipynb\" target=\"_parent\"><img src=\"https://colab.research.google.com/assets/colab-badge.svg\" alt=\"Open In Colab\"/></a>"
      ]
    },
    {
      "cell_type": "code",
      "execution_count": null,
      "metadata": {
        "colab": {
          "base_uri": "https://localhost:8080/",
          "height": 73
        },
        "id": "JAY1LwBQAIUl",
        "outputId": "3fa342a6-2d2f-4206-e3b7-37ff3a6e7a40"
      },
      "outputs": [
        {
          "output_type": "display_data",
          "data": {
            "text/plain": [
              "<IPython.core.display.HTML object>"
            ],
            "text/html": [
              "\n",
              "     <input type=\"file\" id=\"files-3f0493a3-6c2f-435e-818e-a952f2949359\" name=\"files[]\" multiple disabled\n",
              "        style=\"border:none\" />\n",
              "     <output id=\"result-3f0493a3-6c2f-435e-818e-a952f2949359\">\n",
              "      Upload widget is only available when the cell has been executed in the\n",
              "      current browser session. Please rerun this cell to enable.\n",
              "      </output>\n",
              "      <script>// Copyright 2017 Google LLC\n",
              "//\n",
              "// Licensed under the Apache License, Version 2.0 (the \"License\");\n",
              "// you may not use this file except in compliance with the License.\n",
              "// You may obtain a copy of the License at\n",
              "//\n",
              "//      http://www.apache.org/licenses/LICENSE-2.0\n",
              "//\n",
              "// Unless required by applicable law or agreed to in writing, software\n",
              "// distributed under the License is distributed on an \"AS IS\" BASIS,\n",
              "// WITHOUT WARRANTIES OR CONDITIONS OF ANY KIND, either express or implied.\n",
              "// See the License for the specific language governing permissions and\n",
              "// limitations under the License.\n",
              "\n",
              "/**\n",
              " * @fileoverview Helpers for google.colab Python module.\n",
              " */\n",
              "(function(scope) {\n",
              "function span(text, styleAttributes = {}) {\n",
              "  const element = document.createElement('span');\n",
              "  element.textContent = text;\n",
              "  for (const key of Object.keys(styleAttributes)) {\n",
              "    element.style[key] = styleAttributes[key];\n",
              "  }\n",
              "  return element;\n",
              "}\n",
              "\n",
              "// Max number of bytes which will be uploaded at a time.\n",
              "const MAX_PAYLOAD_SIZE = 100 * 1024;\n",
              "\n",
              "function _uploadFiles(inputId, outputId) {\n",
              "  const steps = uploadFilesStep(inputId, outputId);\n",
              "  const outputElement = document.getElementById(outputId);\n",
              "  // Cache steps on the outputElement to make it available for the next call\n",
              "  // to uploadFilesContinue from Python.\n",
              "  outputElement.steps = steps;\n",
              "\n",
              "  return _uploadFilesContinue(outputId);\n",
              "}\n",
              "\n",
              "// This is roughly an async generator (not supported in the browser yet),\n",
              "// where there are multiple asynchronous steps and the Python side is going\n",
              "// to poll for completion of each step.\n",
              "// This uses a Promise to block the python side on completion of each step,\n",
              "// then passes the result of the previous step as the input to the next step.\n",
              "function _uploadFilesContinue(outputId) {\n",
              "  const outputElement = document.getElementById(outputId);\n",
              "  const steps = outputElement.steps;\n",
              "\n",
              "  const next = steps.next(outputElement.lastPromiseValue);\n",
              "  return Promise.resolve(next.value.promise).then((value) => {\n",
              "    // Cache the last promise value to make it available to the next\n",
              "    // step of the generator.\n",
              "    outputElement.lastPromiseValue = value;\n",
              "    return next.value.response;\n",
              "  });\n",
              "}\n",
              "\n",
              "/**\n",
              " * Generator function which is called between each async step of the upload\n",
              " * process.\n",
              " * @param {string} inputId Element ID of the input file picker element.\n",
              " * @param {string} outputId Element ID of the output display.\n",
              " * @return {!Iterable<!Object>} Iterable of next steps.\n",
              " */\n",
              "function* uploadFilesStep(inputId, outputId) {\n",
              "  const inputElement = document.getElementById(inputId);\n",
              "  inputElement.disabled = false;\n",
              "\n",
              "  const outputElement = document.getElementById(outputId);\n",
              "  outputElement.innerHTML = '';\n",
              "\n",
              "  const pickedPromise = new Promise((resolve) => {\n",
              "    inputElement.addEventListener('change', (e) => {\n",
              "      resolve(e.target.files);\n",
              "    });\n",
              "  });\n",
              "\n",
              "  const cancel = document.createElement('button');\n",
              "  inputElement.parentElement.appendChild(cancel);\n",
              "  cancel.textContent = 'Cancel upload';\n",
              "  const cancelPromise = new Promise((resolve) => {\n",
              "    cancel.onclick = () => {\n",
              "      resolve(null);\n",
              "    };\n",
              "  });\n",
              "\n",
              "  // Wait for the user to pick the files.\n",
              "  const files = yield {\n",
              "    promise: Promise.race([pickedPromise, cancelPromise]),\n",
              "    response: {\n",
              "      action: 'starting',\n",
              "    }\n",
              "  };\n",
              "\n",
              "  cancel.remove();\n",
              "\n",
              "  // Disable the input element since further picks are not allowed.\n",
              "  inputElement.disabled = true;\n",
              "\n",
              "  if (!files) {\n",
              "    return {\n",
              "      response: {\n",
              "        action: 'complete',\n",
              "      }\n",
              "    };\n",
              "  }\n",
              "\n",
              "  for (const file of files) {\n",
              "    const li = document.createElement('li');\n",
              "    li.append(span(file.name, {fontWeight: 'bold'}));\n",
              "    li.append(span(\n",
              "        `(${file.type || 'n/a'}) - ${file.size} bytes, ` +\n",
              "        `last modified: ${\n",
              "            file.lastModifiedDate ? file.lastModifiedDate.toLocaleDateString() :\n",
              "                                    'n/a'} - `));\n",
              "    const percent = span('0% done');\n",
              "    li.appendChild(percent);\n",
              "\n",
              "    outputElement.appendChild(li);\n",
              "\n",
              "    const fileDataPromise = new Promise((resolve) => {\n",
              "      const reader = new FileReader();\n",
              "      reader.onload = (e) => {\n",
              "        resolve(e.target.result);\n",
              "      };\n",
              "      reader.readAsArrayBuffer(file);\n",
              "    });\n",
              "    // Wait for the data to be ready.\n",
              "    let fileData = yield {\n",
              "      promise: fileDataPromise,\n",
              "      response: {\n",
              "        action: 'continue',\n",
              "      }\n",
              "    };\n",
              "\n",
              "    // Use a chunked sending to avoid message size limits. See b/62115660.\n",
              "    let position = 0;\n",
              "    do {\n",
              "      const length = Math.min(fileData.byteLength - position, MAX_PAYLOAD_SIZE);\n",
              "      const chunk = new Uint8Array(fileData, position, length);\n",
              "      position += length;\n",
              "\n",
              "      const base64 = btoa(String.fromCharCode.apply(null, chunk));\n",
              "      yield {\n",
              "        response: {\n",
              "          action: 'append',\n",
              "          file: file.name,\n",
              "          data: base64,\n",
              "        },\n",
              "      };\n",
              "\n",
              "      let percentDone = fileData.byteLength === 0 ?\n",
              "          100 :\n",
              "          Math.round((position / fileData.byteLength) * 100);\n",
              "      percent.textContent = `${percentDone}% done`;\n",
              "\n",
              "    } while (position < fileData.byteLength);\n",
              "  }\n",
              "\n",
              "  // All done.\n",
              "  yield {\n",
              "    response: {\n",
              "      action: 'complete',\n",
              "    }\n",
              "  };\n",
              "}\n",
              "\n",
              "scope.google = scope.google || {};\n",
              "scope.google.colab = scope.google.colab || {};\n",
              "scope.google.colab._files = {\n",
              "  _uploadFiles,\n",
              "  _uploadFilesContinue,\n",
              "};\n",
              "})(self);\n",
              "</script> "
            ]
          },
          "metadata": {}
        },
        {
          "output_type": "stream",
          "name": "stdout",
          "text": [
            "Saving diabetes.csv to diabetes.csv\n"
          ]
        }
      ],
      "source": [
        "from google.colab import files\n",
        "uploaded = files.upload()"
      ]
    },
    {
      "cell_type": "code",
      "source": [
        "import pandas as pd\n",
        "import io\n",
        "diabetes = pd.read_csv(io.BytesIO(uploaded['diabetes.csv']))\n",
        "print(diabetes.head())"
      ],
      "metadata": {
        "colab": {
          "base_uri": "https://localhost:8080/"
        },
        "id": "kZoV1xSjAMvy",
        "outputId": "aced75b6-5cc7-4988-e70a-e9927c091757"
      },
      "execution_count": null,
      "outputs": [
        {
          "output_type": "stream",
          "name": "stdout",
          "text": [
            "   Pregnancies  Glucose  BloodPressure  SkinThickness  Insulin   BMI  \\\n",
            "0            6      148             72             35        0  33.6   \n",
            "1            1       85             66             29        0  26.6   \n",
            "2            8      183             64              0        0  23.3   \n",
            "3            1       89             66             23       94  28.1   \n",
            "4            0      137             40             35      168  43.1   \n",
            "\n",
            "   DiabetesPedigreeFunction  Age  Outcome  \n",
            "0                     0.627   50        1  \n",
            "1                     0.351   31        0  \n",
            "2                     0.672   32        1  \n",
            "3                     0.167   21        0  \n",
            "4                     2.288   33        1  \n"
          ]
        }
      ]
    },
    {
      "cell_type": "code",
      "source": [
        "diabetes.isnull().sum()"
      ],
      "metadata": {
        "colab": {
          "base_uri": "https://localhost:8080/"
        },
        "id": "lPrcvGYlAcLC",
        "outputId": "55e9968c-49a6-4ba5-e377-a0b6fce22080"
      },
      "execution_count": null,
      "outputs": [
        {
          "output_type": "execute_result",
          "data": {
            "text/plain": [
              "Pregnancies                 0\n",
              "Glucose                     0\n",
              "BloodPressure               0\n",
              "SkinThickness               0\n",
              "Insulin                     0\n",
              "BMI                         0\n",
              "DiabetesPedigreeFunction    0\n",
              "Age                         0\n",
              "Outcome                     0\n",
              "dtype: int64"
            ]
          },
          "metadata": {},
          "execution_count": 3
        }
      ]
    },
    {
      "cell_type": "code",
      "source": [
        "diabetes = diabetes[diabetes['Glucose']!=0]\n",
        "diabetes['Glucose'].unique()"
      ],
      "metadata": {
        "colab": {
          "base_uri": "https://localhost:8080/"
        },
        "id": "S9t_tYl-IXfw",
        "outputId": "a0a70822-b4f9-4d01-d8cd-872a35ac3efd"
      },
      "execution_count": null,
      "outputs": [
        {
          "output_type": "execute_result",
          "data": {
            "text/plain": [
              "array([148,  85, 167,  89, 137, 116,  78, 115, 125, 110, 139, 166, 100,\n",
              "       118, 107, 103, 126,  99, 119, 143, 147,  97, 145, 117, 109, 158,\n",
              "        88,  92, 122, 138, 102,  90, 111, 133, 106, 159, 146,  71, 105,\n",
              "       101, 150,  73,  84,  44, 141, 114,  95, 129,  79,  62, 131, 112,\n",
              "       113,  74,  83, 136,  80, 123,  81, 134, 142, 144,  93, 163, 151,\n",
              "        96, 155,  76, 160, 124, 162, 132, 120, 128, 108, 154,  57, 156,\n",
              "       153, 152, 104,  87,  75, 130, 135, 140, 164,  91, 165,  86, 161,\n",
              "        77, 157,  61,  98, 127,  82,  72,  94,  68, 121,  67,  56, 149,\n",
              "        65])"
            ]
          },
          "metadata": {},
          "execution_count": 39
        }
      ]
    },
    {
      "cell_type": "code",
      "source": [
        "diabetes = diabetes[diabetes['BMI']!=0]\n",
        "diabetes['BMI'] = diabetes['BMI'].replace('', 0)\n",
        "diabetes['BMI'].unique()"
      ],
      "metadata": {
        "colab": {
          "base_uri": "https://localhost:8080/"
        },
        "id": "rcnaQK5nI9AM",
        "outputId": "8fe73719-5b0b-4cbf-fc46-0ea0b9171b44"
      },
      "execution_count": null,
      "outputs": [
        {
          "output_type": "execute_result",
          "data": {
            "text/plain": [
              "array([33.6, 26.6, 23.3, 28.1, 41.5, 25.6, 31. , 35.3, 30.5, 37.6, 38. ,\n",
              "       27.1, 30.1, 25.8, 30. , 29.6, 34.6, 39.3, 35.4, 39.8, 29. , 36.6,\n",
              "       31.1, 39.4, 23.2, 22.2, 34.1, 36. , 31.6, 24.8, 19.9, 27.6, 24. ,\n",
              "       33.2, 32.9, 38.2, 37.1, 34. , 40.2, 22.7, 27.4, 29.7, 28. , 39.1,\n",
              "       19.4, 24.2, 24.4, 33.7, 34.7, 23. , 37.7, 40.5, 25. , 25.4, 32.8,\n",
              "       32.5, 19.6, 28.9, 28.6, 35.1, 32. , 32.6, 22.4, 29.3, 24.6, 32.4,\n",
              "       38.5, 26.5, 19.1, 23.8, 24.7, 33.9, 20.4, 28.7, 39. , 26.1, 22.5,\n",
              "       39.6, 29.5, 34.3, 37.4, 33.3, 31.2, 28.2, 34.2, 26.8, 34.5, 27.9,\n",
              "       38.3, 21.1, 33.8, 30.8, 36.9, 39.5, 27.3, 21.9, 40.6, 25.2, 40.9,\n",
              "       37.2, 29.9, 31.9, 28.4, 32.7, 34.9, 35.9, 22.6, 33.1, 30.4, 24.3,\n",
              "       22.9, 34.8, 30.9, 40.1, 23.9, 37.5, 35.5, 27.7, 35.8, 37.8, 28.8,\n",
              "       23.6, 35.7, 36.7, 35. , 18.4, 29.2, 25.9, 32.1, 36.3, 40. , 25.1,\n",
              "       27.5, 27.8, 24.9, 25.3, 37.9, 27. , 26. , 38.7, 20.8, 36.1, 30.7,\n",
              "       32.3, 21. , 39.7, 25.5, 26.2, 19.3, 38.1, 23.5, 23.1, 39.9, 36.8,\n",
              "       21.8, 34.4, 27.2, 36.5, 29.8, 39.2, 38.4, 36.2, 20. , 22.3, 23.7,\n",
              "       22.1, 18.2, 26.4, 37. , 24.5, 32.2, 21.2, 26.7, 30.2, 41.3, 38.8,\n",
              "       35.2, 40.7, 33.5, 37.3, 30.3, 26.3, 21.7, 36.4, 28.5, 26.9, 38.6,\n",
              "       31.3, 19.5, 20.1, 40.8, 23.4, 28.3, 38.9, 35.6, 24.1, 41.2])"
            ]
          },
          "metadata": {},
          "execution_count": 46
        }
      ]
    },
    {
      "cell_type": "code",
      "source": [
        "diabetes['Age'].unique()"
      ],
      "metadata": {
        "colab": {
          "base_uri": "https://localhost:8080/"
        },
        "id": "6Tiuy9HzKVwI",
        "outputId": "242ce7dc-e08c-48e8-ba41-e3fccfb793ad"
      },
      "execution_count": null,
      "outputs": [
        {
          "output_type": "execute_result",
          "data": {
            "text/plain": [
              "array([50, 31, 32, 21, 33, 30, 26, 29, 51, 34, 27, 41, 43, 22, 38, 28, 45,\n",
              "       35, 46, 37, 48, 40, 25, 42, 44, 39, 36, 24, 23, 47, 49])"
            ]
          },
          "metadata": {},
          "execution_count": 51
        }
      ]
    },
    {
      "cell_type": "code",
      "source": [
        "diabetes.corr()"
      ],
      "metadata": {
        "colab": {
          "base_uri": "https://localhost:8080/",
          "height": 396
        },
        "id": "F9mOFt9hAgPn",
        "outputId": "e6fbbfa7-776a-4e8c-8883-1949df89417f"
      },
      "execution_count": null,
      "outputs": [
        {
          "output_type": "execute_result",
          "data": {
            "text/plain": [
              "                          Pregnancies   Glucose  BloodPressure  SkinThickness  \\\n",
              "Pregnancies                  1.000000  0.138395       0.156473      -0.087532   \n",
              "Glucose                      0.138395  1.000000       0.134586       0.043736   \n",
              "BloodPressure                0.156473  0.134586       1.000000       0.193996   \n",
              "SkinThickness               -0.087532  0.043736       0.193996       1.000000   \n",
              "Insulin                     -0.099859  0.270991       0.097618       0.534922   \n",
              "BMI                          0.022586  0.241348       0.178141       0.377411   \n",
              "DiabetesPedigreeFunction    -0.016492  0.093927       0.019079       0.162941   \n",
              "Age                          0.614711  0.267661       0.230669      -0.118908   \n",
              "Outcome                      0.212378  0.491046       0.042260       0.057985   \n",
              "\n",
              "                           Insulin       BMI  DiabetesPedigreeFunction  \\\n",
              "Pregnancies              -0.099859  0.022586                 -0.016492   \n",
              "Glucose                   0.270991  0.241348                  0.093927   \n",
              "BloodPressure             0.097618  0.178141                  0.019079   \n",
              "SkinThickness             0.534922  0.377411                  0.162941   \n",
              "Insulin                   1.000000  0.204057                  0.213245   \n",
              "BMI                       0.204057  1.000000                  0.135945   \n",
              "DiabetesPedigreeFunction  0.213245  0.135945                  1.000000   \n",
              "Age                      -0.080860  0.079021                  0.040201   \n",
              "Outcome                   0.110847  0.307139                  0.181020   \n",
              "\n",
              "                               Age   Outcome  \n",
              "Pregnancies               0.614711  0.212378  \n",
              "Glucose                   0.267661  0.491046  \n",
              "BloodPressure             0.230669  0.042260  \n",
              "SkinThickness            -0.118908  0.057985  \n",
              "Insulin                  -0.080860  0.110847  \n",
              "BMI                       0.079021  0.307139  \n",
              "DiabetesPedigreeFunction  0.040201  0.181020  \n",
              "Age                       1.000000  0.277428  \n",
              "Outcome                   0.277428  1.000000  "
            ],
            "text/html": [
              "\n",
              "  <div id=\"df-af2bd361-4c82-4f48-b04b-f23691472265\">\n",
              "    <div class=\"colab-df-container\">\n",
              "      <div>\n",
              "<style scoped>\n",
              "    .dataframe tbody tr th:only-of-type {\n",
              "        vertical-align: middle;\n",
              "    }\n",
              "\n",
              "    .dataframe tbody tr th {\n",
              "        vertical-align: top;\n",
              "    }\n",
              "\n",
              "    .dataframe thead th {\n",
              "        text-align: right;\n",
              "    }\n",
              "</style>\n",
              "<table border=\"1\" class=\"dataframe\">\n",
              "  <thead>\n",
              "    <tr style=\"text-align: right;\">\n",
              "      <th></th>\n",
              "      <th>Pregnancies</th>\n",
              "      <th>Glucose</th>\n",
              "      <th>BloodPressure</th>\n",
              "      <th>SkinThickness</th>\n",
              "      <th>Insulin</th>\n",
              "      <th>BMI</th>\n",
              "      <th>DiabetesPedigreeFunction</th>\n",
              "      <th>Age</th>\n",
              "      <th>Outcome</th>\n",
              "    </tr>\n",
              "  </thead>\n",
              "  <tbody>\n",
              "    <tr>\n",
              "      <th>Pregnancies</th>\n",
              "      <td>1.000000</td>\n",
              "      <td>0.138395</td>\n",
              "      <td>0.156473</td>\n",
              "      <td>-0.087532</td>\n",
              "      <td>-0.099859</td>\n",
              "      <td>0.022586</td>\n",
              "      <td>-0.016492</td>\n",
              "      <td>0.614711</td>\n",
              "      <td>0.212378</td>\n",
              "    </tr>\n",
              "    <tr>\n",
              "      <th>Glucose</th>\n",
              "      <td>0.138395</td>\n",
              "      <td>1.000000</td>\n",
              "      <td>0.134586</td>\n",
              "      <td>0.043736</td>\n",
              "      <td>0.270991</td>\n",
              "      <td>0.241348</td>\n",
              "      <td>0.093927</td>\n",
              "      <td>0.267661</td>\n",
              "      <td>0.491046</td>\n",
              "    </tr>\n",
              "    <tr>\n",
              "      <th>BloodPressure</th>\n",
              "      <td>0.156473</td>\n",
              "      <td>0.134586</td>\n",
              "      <td>1.000000</td>\n",
              "      <td>0.193996</td>\n",
              "      <td>0.097618</td>\n",
              "      <td>0.178141</td>\n",
              "      <td>0.019079</td>\n",
              "      <td>0.230669</td>\n",
              "      <td>0.042260</td>\n",
              "    </tr>\n",
              "    <tr>\n",
              "      <th>SkinThickness</th>\n",
              "      <td>-0.087532</td>\n",
              "      <td>0.043736</td>\n",
              "      <td>0.193996</td>\n",
              "      <td>1.000000</td>\n",
              "      <td>0.534922</td>\n",
              "      <td>0.377411</td>\n",
              "      <td>0.162941</td>\n",
              "      <td>-0.118908</td>\n",
              "      <td>0.057985</td>\n",
              "    </tr>\n",
              "    <tr>\n",
              "      <th>Insulin</th>\n",
              "      <td>-0.099859</td>\n",
              "      <td>0.270991</td>\n",
              "      <td>0.097618</td>\n",
              "      <td>0.534922</td>\n",
              "      <td>1.000000</td>\n",
              "      <td>0.204057</td>\n",
              "      <td>0.213245</td>\n",
              "      <td>-0.080860</td>\n",
              "      <td>0.110847</td>\n",
              "    </tr>\n",
              "    <tr>\n",
              "      <th>BMI</th>\n",
              "      <td>0.022586</td>\n",
              "      <td>0.241348</td>\n",
              "      <td>0.178141</td>\n",
              "      <td>0.377411</td>\n",
              "      <td>0.204057</td>\n",
              "      <td>1.000000</td>\n",
              "      <td>0.135945</td>\n",
              "      <td>0.079021</td>\n",
              "      <td>0.307139</td>\n",
              "    </tr>\n",
              "    <tr>\n",
              "      <th>DiabetesPedigreeFunction</th>\n",
              "      <td>-0.016492</td>\n",
              "      <td>0.093927</td>\n",
              "      <td>0.019079</td>\n",
              "      <td>0.162941</td>\n",
              "      <td>0.213245</td>\n",
              "      <td>0.135945</td>\n",
              "      <td>1.000000</td>\n",
              "      <td>0.040201</td>\n",
              "      <td>0.181020</td>\n",
              "    </tr>\n",
              "    <tr>\n",
              "      <th>Age</th>\n",
              "      <td>0.614711</td>\n",
              "      <td>0.267661</td>\n",
              "      <td>0.230669</td>\n",
              "      <td>-0.118908</td>\n",
              "      <td>-0.080860</td>\n",
              "      <td>0.079021</td>\n",
              "      <td>0.040201</td>\n",
              "      <td>1.000000</td>\n",
              "      <td>0.277428</td>\n",
              "    </tr>\n",
              "    <tr>\n",
              "      <th>Outcome</th>\n",
              "      <td>0.212378</td>\n",
              "      <td>0.491046</td>\n",
              "      <td>0.042260</td>\n",
              "      <td>0.057985</td>\n",
              "      <td>0.110847</td>\n",
              "      <td>0.307139</td>\n",
              "      <td>0.181020</td>\n",
              "      <td>0.277428</td>\n",
              "      <td>1.000000</td>\n",
              "    </tr>\n",
              "  </tbody>\n",
              "</table>\n",
              "</div>\n",
              "      <button class=\"colab-df-convert\" onclick=\"convertToInteractive('df-af2bd361-4c82-4f48-b04b-f23691472265')\"\n",
              "              title=\"Convert this dataframe to an interactive table.\"\n",
              "              style=\"display:none;\">\n",
              "        \n",
              "  <svg xmlns=\"http://www.w3.org/2000/svg\" height=\"24px\"viewBox=\"0 0 24 24\"\n",
              "       width=\"24px\">\n",
              "    <path d=\"M0 0h24v24H0V0z\" fill=\"none\"/>\n",
              "    <path d=\"M18.56 5.44l.94 2.06.94-2.06 2.06-.94-2.06-.94-.94-2.06-.94 2.06-2.06.94zm-11 1L8.5 8.5l.94-2.06 2.06-.94-2.06-.94L8.5 2.5l-.94 2.06-2.06.94zm10 10l.94 2.06.94-2.06 2.06-.94-2.06-.94-.94-2.06-.94 2.06-2.06.94z\"/><path d=\"M17.41 7.96l-1.37-1.37c-.4-.4-.92-.59-1.43-.59-.52 0-1.04.2-1.43.59L10.3 9.45l-7.72 7.72c-.78.78-.78 2.05 0 2.83L4 21.41c.39.39.9.59 1.41.59.51 0 1.02-.2 1.41-.59l7.78-7.78 2.81-2.81c.8-.78.8-2.07 0-2.86zM5.41 20L4 18.59l7.72-7.72 1.47 1.35L5.41 20z\"/>\n",
              "  </svg>\n",
              "      </button>\n",
              "      \n",
              "  <style>\n",
              "    .colab-df-container {\n",
              "      display:flex;\n",
              "      flex-wrap:wrap;\n",
              "      gap: 12px;\n",
              "    }\n",
              "\n",
              "    .colab-df-convert {\n",
              "      background-color: #E8F0FE;\n",
              "      border: none;\n",
              "      border-radius: 50%;\n",
              "      cursor: pointer;\n",
              "      display: none;\n",
              "      fill: #1967D2;\n",
              "      height: 32px;\n",
              "      padding: 0 0 0 0;\n",
              "      width: 32px;\n",
              "    }\n",
              "\n",
              "    .colab-df-convert:hover {\n",
              "      background-color: #E2EBFA;\n",
              "      box-shadow: 0px 1px 2px rgba(60, 64, 67, 0.3), 0px 1px 3px 1px rgba(60, 64, 67, 0.15);\n",
              "      fill: #174EA6;\n",
              "    }\n",
              "\n",
              "    [theme=dark] .colab-df-convert {\n",
              "      background-color: #3B4455;\n",
              "      fill: #D2E3FC;\n",
              "    }\n",
              "\n",
              "    [theme=dark] .colab-df-convert:hover {\n",
              "      background-color: #434B5C;\n",
              "      box-shadow: 0px 1px 3px 1px rgba(0, 0, 0, 0.15);\n",
              "      filter: drop-shadow(0px 1px 2px rgba(0, 0, 0, 0.3));\n",
              "      fill: #FFFFFF;\n",
              "    }\n",
              "  </style>\n",
              "\n",
              "      <script>\n",
              "        const buttonEl =\n",
              "          document.querySelector('#df-af2bd361-4c82-4f48-b04b-f23691472265 button.colab-df-convert');\n",
              "        buttonEl.style.display =\n",
              "          google.colab.kernel.accessAllowed ? 'block' : 'none';\n",
              "\n",
              "        async function convertToInteractive(key) {\n",
              "          const element = document.querySelector('#df-af2bd361-4c82-4f48-b04b-f23691472265');\n",
              "          const dataTable =\n",
              "            await google.colab.kernel.invokeFunction('convertToInteractive',\n",
              "                                                     [key], {});\n",
              "          if (!dataTable) return;\n",
              "\n",
              "          const docLinkHtml = 'Like what you see? Visit the ' +\n",
              "            '<a target=\"_blank\" href=https://colab.research.google.com/notebooks/data_table.ipynb>data table notebook</a>'\n",
              "            + ' to learn more about interactive tables.';\n",
              "          element.innerHTML = '';\n",
              "          dataTable['output_type'] = 'display_data';\n",
              "          await google.colab.output.renderOutput(dataTable, element);\n",
              "          const docLink = document.createElement('div');\n",
              "          docLink.innerHTML = docLinkHtml;\n",
              "          element.appendChild(docLink);\n",
              "        }\n",
              "      </script>\n",
              "    </div>\n",
              "  </div>\n",
              "  "
            ]
          },
          "metadata": {},
          "execution_count": 49
        }
      ]
    },
    {
      "cell_type": "code",
      "source": [
        "import matplotlib.pyplot as plt\n",
        "# Assuming you have a DataFrame named 'df' containing your data\n",
        "\n",
        "# Get the list of column names\n",
        "column_names = diabetes.columns\n",
        "\n",
        "# Create a bar plot for each column\n",
        "for column in column_names:\n",
        "    plt.figure()  # Create a new figure for each plot\n",
        "    diabetes[column].value_counts().plot(kind='bar')\n",
        "    plt.title(f\"Bar plot of {column}\")\n",
        "    plt.xlabel(column)\n",
        "    plt.ylabel(\"Count\")\n",
        "\n",
        "plt.show()  # Display all the plots together"
      ],
      "metadata": {
        "id": "f5k198ExAym4"
      },
      "execution_count": null,
      "outputs": []
    },
    {
      "cell_type": "code",
      "source": [
        "for column_name in diabetes.columns:\n",
        "  column_length = len(diabetes[column_name])\n",
        "  print('the length of {} column is {}'.format(column_name, column_length))"
      ],
      "metadata": {
        "colab": {
          "base_uri": "https://localhost:8080/"
        },
        "id": "48lDPY9vBo4T",
        "outputId": "46addc49-5133-40e1-bb29-3a3a7b148d42"
      },
      "execution_count": null,
      "outputs": [
        {
          "output_type": "stream",
          "name": "stdout",
          "text": [
            "the length of Pregnancies column is 768\n",
            "the length of Glucose column is 768\n",
            "the length of BloodPressure column is 768\n",
            "the length of SkinThickness column is 768\n",
            "the length of Insulin column is 768\n",
            "the length of BMI column is 768\n",
            "the length of DiabetesPedigreeFunction column is 768\n",
            "the length of Age column is 768\n",
            "the length of Outcome column is 768\n"
          ]
        }
      ]
    },
    {
      "cell_type": "code",
      "source": [
        "for column_name in diabetes.columns:\n",
        "    print('Unique values in column {} are: {}'.format(column_name, diabetes[column_name].unique()))\n"
      ],
      "metadata": {
        "id": "GN0ZExmMDfiD"
      },
      "execution_count": null,
      "outputs": []
    },
    {
      "cell_type": "code",
      "source": [
        "import numpy as np\n",
        "from scipy.stats import zscore\n",
        "z_score = zscore(diabetes['Outcome'])\n",
        "for threshold in range(1,5):\n",
        "  print('the score threshold is : {}'.format(threshold))\n",
        "  print(\"The indices of the outliers:\")\n",
        "  print(np.where(z_score > threshold))\n",
        "  print('number of outliers is: {}'.format(len((np.where(z_score>threshold)[0]))))\n"
      ],
      "metadata": {
        "colab": {
          "base_uri": "https://localhost:8080/"
        },
        "id": "tPDY0h_xDs99",
        "outputId": "3af88f19-2345-497c-90da-4a128c4f3d86"
      },
      "execution_count": null,
      "outputs": [
        {
          "output_type": "stream",
          "name": "stdout",
          "text": [
            "the score threshold is : 1\n",
            "The indices of the outliers:\n",
            "(array([  0,   2,   4,   6,   8,   9,  11,  13,  14,  15,  16,  17,  19,\n",
            "        22,  23,  24,  25,  26,  31,  37,  38,  39,  43,  45,  48,  53,\n",
            "        56,  61,  64,  66,  70,  72,  78,  84,  88,  93,  99, 100, 109,\n",
            "       110, 111, 114, 115, 116, 120, 124, 125, 128, 129, 130, 131, 132,\n",
            "       143, 152, 154, 155, 159, 164, 165, 170, 171, 175, 177, 179, 185,\n",
            "       186, 187, 188, 189, 192, 193, 195, 197, 198, 199, 206, 207, 209,\n",
            "       213, 214, 215, 216, 218, 219, 220, 221, 227, 230, 231, 235, 236,\n",
            "       237, 238, 242, 243, 245, 254, 255, 259, 261, 264, 266, 269, 270,\n",
            "       276, 280, 283, 284, 287, 291, 292, 293, 296, 298, 300, 301, 303,\n",
            "       306, 308, 309, 312, 314, 317, 319, 321, 322, 323, 326, 328, 332,\n",
            "       337, 338, 339, 349, 355, 356, 357, 359, 360, 363, 366, 369, 370,\n",
            "       375, 378, 386, 387, 388, 391, 394, 397, 399, 400, 402, 404, 406,\n",
            "       408, 409, 414, 415, 417, 419, 424, 425, 427, 429, 435, 440, 443,\n",
            "       444, 445, 448, 451, 455, 458, 468, 476, 480, 484, 485, 493, 498,\n",
            "       502, 506, 510, 515, 516, 523, 535, 539, 540, 541, 542, 545, 546,\n",
            "       560, 561, 569, 577, 579, 580, 584, 586, 588, 590, 592, 595, 598,\n",
            "       603, 604, 606, 611, 612, 614, 618, 619, 630, 635, 638, 642, 646,\n",
            "       647, 648, 655, 659, 661, 662, 663, 664, 666, 667, 675, 676, 678,\n",
            "       681, 683, 689, 691, 693, 695, 696, 701, 702, 706, 708, 709, 712,\n",
            "       715, 716, 719, 722, 730, 731, 732, 739, 740, 743, 746, 748, 749,\n",
            "       750, 753, 754, 755, 757, 759, 761, 766]),)\n",
            "number of outliers is: 268\n",
            "the score threshold is : 2\n",
            "The indices of the outliers:\n",
            "(array([], dtype=int64),)\n",
            "number of outliers is: 0\n",
            "the score threshold is : 3\n",
            "The indices of the outliers:\n",
            "(array([], dtype=int64),)\n",
            "number of outliers is: 0\n",
            "the score threshold is : 4\n",
            "The indices of the outliers:\n",
            "(array([], dtype=int64),)\n",
            "number of outliers is: 0\n"
          ]
        }
      ]
    },
    {
      "cell_type": "code",
      "source": [
        "import matplotlib.pyplot as plt\n",
        "import seaborn as sns\n",
        "corrdia = diabetes.corr()\n",
        "sns.heatmap(corrdia, square = True, annot = True, linewidth=0.5)\n",
        "plt.title('diabetes heatmap')\n",
        "plt.show()"
      ],
      "metadata": {
        "colab": {
          "base_uri": "https://localhost:8080/",
          "height": 619
        },
        "id": "48xjJsqzEy0s",
        "outputId": "9318e295-8032-48c3-82e7-b1df8705d13f"
      },
      "execution_count": null,
      "outputs": [
        {
          "output_type": "display_data",
          "data": {
            "text/plain": [
              "<Figure size 640x480 with 2 Axes>"
            ],
            "image/png": "[encoded data removed]"
          },
          "metadata": {}
        }
      ]
    },
    {
      "cell_type": "code",
      "source": [
        "diabetes['Pregnancies'].mean()"
      ],
      "metadata": {
        "colab": {
          "base_uri": "https://localhost:8080/"
        },
        "id": "r5mvxRDuWsgY",
        "outputId": "1b668821-2cb5-4639-ded6-b4ce98b03f17"
      },
      "execution_count": null,
      "outputs": [
        {
          "output_type": "execute_result",
          "data": {
            "text/plain": [
              "3.6702127659574466"
            ]
          },
          "metadata": {},
          "execution_count": 92
        }
      ]
    },
    {
      "cell_type": "code",
      "source": [
        "jb_stats = jarque_bera(diabetes[['BMI']])\n",
        "norm_stats = normaltest(diabetes['BMI'])\n",
        "print('jarque-beta test stats is {0} and p value is {1}'.format(jb_stats[0], jb_stats[1]))\n",
        "print('norm test stats is {0} and a p value is {1}'.format(norm_stats[0], norm_stats[1]))"
      ],
      "metadata": {
        "colab": {
          "base_uri": "https://localhost:8080/"
        },
        "id": "M_fjd6Z4GdEh",
        "outputId": "3e70b10a-80d8-484f-b4a1-9449cf4dcfbc"
      },
      "execution_count": null,
      "outputs": [
        {
          "output_type": "stream",
          "name": "stdout",
          "text": [
            "jarque-beta test stats is 25.438470887673493 and p value is 2.992996663575956e-06\n",
            "norm test stats is 90.00613484857575 and a p value is 2.853751474621956e-20\n"
          ]
        }
      ]
    },
    {
      "cell_type": "code",
      "source": [
        "from scipy.stats import boxcox\n",
        "\n",
        "nonzero_bmi = diabetes[diabetes['BMI'] != 0]['BMI']\n",
        "BMI_box, _ = boxcox(nonzero_bmi)\n",
        "jb_stats = jarque_bera(BMI_box)\n",
        "norm_stats = normaltest(BMI_box)\n",
        "print('jarque-beta test stats: {}'.format(jb_stats))\n",
        "print('norm test stats: {}'.format(norm_stats))"
      ],
      "metadata": {
        "colab": {
          "base_uri": "https://localhost:8080/"
        },
        "id": "E648llPvGwhQ",
        "outputId": "d9349058-0005-44b9-9759-2ad117a39cc6"
      },
      "execution_count": null,
      "outputs": [
        {
          "output_type": "stream",
          "name": "stdout",
          "text": [
            "jarque-beta test stats: SignificanceResult(statistic=25.740307233088174, pvalue=2.5737318861665037e-06)\n",
            "norm test stats: NormaltestResult(statistic=95.57566748544023, pvalue=1.7620064888251305e-21)\n"
          ]
        }
      ]
    },
    {
      "cell_type": "code",
      "source": [
        "from scipy.stats import jarque_bera\n",
        "from scipy.stats import normaltest\n",
        "jb_stats = jarque_bera(diabetes[['Glucose']])\n",
        "norm_stats = normaltest(diabetes['Glucose'])\n",
        "print('jarque-beta test stats is {0} and p value is {1}'.format(jb_stats[0], jb_stats[1]))\n",
        "print('norm test stats is {0} and a p value is {1}'.format(norm_stats[0], norm_stats[1]))\n"
      ],
      "metadata": {
        "colab": {
          "base_uri": "https://localhost:8080/"
        },
        "id": "Lm5XTs03FWTi",
        "outputId": "d124fbe4-a07b-49ec-aa45-f40d4cb4a8b3"
      },
      "execution_count": null,
      "outputs": [
        {
          "output_type": "stream",
          "name": "stdout",
          "text": [
            "jarque-beta test stats is 26.14692981433049 and p value is 2.1002274550634267e-06\n",
            "norm test stats is 76.11655656343808 and a p value is 2.961418270968191e-17\n"
          ]
        }
      ]
    },
    {
      "cell_type": "code",
      "source": [
        "nonzero_glu = diabetes[diabetes['BMI'] != 0]['BMI']\n",
        "Box_glu, _ = boxcox(nonzero_bmi)\n",
        "jb_stats = jarque_bera(Box_glu)\n",
        "norm_stats = normaltest(Box_glu)\n",
        "print('jarque-beta test stats: {}'.format(jb_stats))\n",
        "print('norm test stats: {}'.format(norm_stats))"
      ],
      "metadata": {
        "colab": {
          "base_uri": "https://localhost:8080/"
        },
        "id": "QBZQ2ejnLFI7",
        "outputId": "4a4f8ade-9788-4e63-84fd-2ac25c8917b4"
      },
      "execution_count": null,
      "outputs": [
        {
          "output_type": "stream",
          "name": "stdout",
          "text": [
            "jarque-beta test stats: SignificanceResult(statistic=25.740307233088174, pvalue=2.5737318861665037e-06)\n",
            "norm test stats: NormaltestResult(statistic=95.57566748544023, pvalue=1.7620064888251305e-21)\n"
          ]
        }
      ]
    },
    {
      "cell_type": "code",
      "source": [
        "from scipy.stats import mstats\n",
        "from sklearn.preprocessing import normalize\n",
        "from sklearn.preprocessing import scale\n",
        "from sklearn.preprocessing import StandardScaler\n",
        "diabetes['win_bmi'] = winsorize(diabetes['BMI'], (0, 0.10))\n",
        "diabetes['win_glu'] = winsorize(diabetes['Glucose'], (0, 0.10))\n",
        "diabetes['norm_bmi'] = normalize(np.array(diabetes['win_bmi']).reshape(-1, 1))\n",
        "\n",
        "scaler = StandardScaler()\n",
        "diabetes['std_bmi'] = scaler.fit_transform(diabetes['win_bmi'].values.reshape(-1, 1))\n",
        "plt.scatter(diabetes['win_bmi'], diabetes['std_bmi'])\n",
        "plt.show()"
      ],
      "metadata": {
        "colab": {
          "base_uri": "https://localhost:8080/",
          "height": 430
        },
        "id": "z477ZsDnLW_N",
        "outputId": "672f8beb-f1ac-458d-cfde-7b093a15821a"
      },
      "execution_count": null,
      "outputs": [
        {
          "output_type": "display_data",
          "data": {
            "text/plain": [
              "<Figure size 640x480 with 1 Axes>"
            ],
            "image/png": "[encoded data removed]"
          },
          "metadata": {}
        }
      ]
    },
    {
      "cell_type": "code",
      "source": [
        "diabetes['std_glu'] = scaler.fit_transform(diabetes['win_glu'].values.reshape(-1,1))\n",
        "plt.scatter(diabetes['win_glu'], diabetes['std_glu'])\n",
        "plt.show()"
      ],
      "metadata": {
        "colab": {
          "base_uri": "https://localhost:8080/",
          "height": 430
        },
        "id": "ohxxwRosN2U0",
        "outputId": "03f1d66b-c055-41e5-cfef-8f04de4c5e97"
      },
      "execution_count": null,
      "outputs": [
        {
          "output_type": "display_data",
          "data": {
            "text/plain": [
              "<Figure size 640x480 with 1 Axes>"
            ],
            "image/png": "[encoded data removed]"
          },
          "metadata": {}
        }
      ]
    },
    {
      "cell_type": "code",
      "source": [
        "X = scaler.fit_transform(diabetes)\n",
        "Xt=X.T\n",
        "Cx=np.cov(Xt)\n",
        "print(Cx)"
      ],
      "metadata": {
        "colab": {
          "base_uri": "https://localhost:8080/"
        },
        "id": "gGU1tbRKNp9b",
        "outputId": "aaf60b46-4824-4583-d140-8d52d20051dd"
      },
      "execution_count": null,
      "outputs": [
        {
          "output_type": "stream",
          "name": "stdout",
          "text": [
            "[[ 1.00133156  0.13857925  0.15668151 -0.0876486  -0.09999198  0.02261614\n",
            "  -0.01651444  0.61552993  0.21266106  0.02261614  0.13857925  0.\n",
            "   0.02261614  0.13857925]\n",
            " [ 0.13857925  1.00133156  0.13476569  0.04379442  0.27135223  0.24166965\n",
            "   0.09405158  0.26801744  0.49169992  0.24166965  1.00133156  0.\n",
            "   0.24166965  1.00133156]\n",
            " [ 0.15668151  0.13476569  1.00133156  0.194254    0.09774817  0.17837832\n",
            "   0.01910436  0.23097593  0.04231602  0.17837832  0.13476569  0.\n",
            "   0.17837832  0.13476569]\n",
            " [-0.0876486   0.04379442  0.194254    1.00133156  0.53563392  0.37791378\n",
            "   0.16315817 -0.11906586  0.05806264  0.37791378  0.04379442  0.\n",
            "   0.37791378  0.04379442]\n",
            " [-0.09999198  0.27135223  0.09774817  0.53563392  1.00133156  0.20432848\n",
            "   0.21352922 -0.08096726  0.11099489  0.20432848  0.27135223  0.\n",
            "   0.20432848  0.27135223]\n",
            " [ 0.02261614  0.24166965  0.17837832  0.37791378  0.20432848  1.00133156\n",
            "   0.13612562  0.07912633  0.30754828  1.00133156  0.24166965  0.\n",
            "   1.00133156  0.24166965]\n",
            " [-0.01651444  0.09405158  0.01910436  0.16315817  0.21352922  0.13612562\n",
            "   1.00133156  0.04025493  0.18126122  0.13612562  0.09405158  0.\n",
            "   0.13612562  0.09405158]\n",
            " [ 0.61552993  0.26801744  0.23097593 -0.11906586 -0.08096726  0.07912633\n",
            "   0.04025493  1.00133156  0.2777971   0.07912633  0.26801744  0.\n",
            "   0.07912633  0.26801744]\n",
            " [ 0.21266106  0.49169992  0.04231602  0.05806264  0.11099489  0.30754828\n",
            "   0.18126122  0.2777971   1.00133156  0.30754828  0.49169992  0.\n",
            "   0.30754828  0.49169992]\n",
            " [ 0.02261614  0.24166965  0.17837832  0.37791378  0.20432848  1.00133156\n",
            "   0.13612562  0.07912633  0.30754828  1.00133156  0.24166965  0.\n",
            "   1.00133156  0.24166965]\n",
            " [ 0.13857925  1.00133156  0.13476569  0.04379442  0.27135223  0.24166965\n",
            "   0.09405158  0.26801744  0.49169992  0.24166965  1.00133156  0.\n",
            "   0.24166965  1.00133156]\n",
            " [ 0.          0.          0.          0.          0.          0.\n",
            "   0.          0.          0.          0.          0.          0.\n",
            "   0.          0.        ]\n",
            " [ 0.02261614  0.24166965  0.17837832  0.37791378  0.20432848  1.00133156\n",
            "   0.13612562  0.07912633  0.30754828  1.00133156  0.24166965  0.\n",
            "   1.00133156  0.24166965]\n",
            " [ 0.13857925  1.00133156  0.13476569  0.04379442  0.27135223  0.24166965\n",
            "   0.09405158  0.26801744  0.49169992  0.24166965  1.00133156  0.\n",
            "   0.24166965  1.00133156]]\n"
          ]
        }
      ]
    },
    {
      "cell_type": "code",
      "source": [
        "from numpy.linalg import eig\n",
        "eig_val_cov, eig_vec_cov = np.linalg.eig(Cx)\n",
        "for i in range(len(eig_val_cov)):\n",
        "    eigvec_cov = eig_vec_cov[:,i].T\n",
        "    print('Eigenvector {}: \\n{}'.format(i + 1, eigvec_cov))\n",
        "    print('Eigenvalue {}: \\n{}'.format(i + 1, eig_val_cov[i]))\n",
        "    print(40 * ('-'))\n"
      ],
      "metadata": {
        "id": "SAlC-5eUZrjn"
      },
      "execution_count": null,
      "outputs": []
    },
    {
      "cell_type": "code",
      "source": [
        "plt.plot(eig_val_cov)\n",
        "plt.show()"
      ],
      "metadata": {
        "colab": {
          "base_uri": "https://localhost:8080/",
          "height": 485
        },
        "id": "F6996R_0ahJi",
        "outputId": "363f2bf5-cb64-4481-e820-285bf59ce9ac"
      },
      "execution_count": null,
      "outputs": [
        {
          "output_type": "stream",
          "name": "stderr",
          "text": [
            "/usr/local/lib/python3.10/dist-packages/matplotlib/cbook/__init__.py:1335: ComplexWarning: Casting complex values to real discards the imaginary part\n",
            "  return np.asarray(x, float)\n"
          ]
        },
        {
          "output_type": "display_data",
          "data": {
            "text/plain": [
              "<Figure size 640x480 with 1 Axes>"
            ],
            "image/png": "[encoded data removed]"
          },
          "metadata": {}
        }
      ]
    },
    {
      "cell_type": "code",
      "source": [
        "from sklearn.decomposition import PCA\n",
        "from sklearn.preprocessing import StandardScaler\n",
        "sklearn_pca=PCA(n_components=2)\n",
        "y_sklearn=sklearn_pca.fit_transform(X)\n",
        "p=eig_vec_cov[:,0]\n",
        "y=p.T.dot(Xt)\n",
        "print('The percentage of total variance in the dataset explained by each',\n",
        "    'component from Sklearn PCA.\\n', sklearn_pca.explained_variance_ratio_)\n"
      ],
      "metadata": {
        "colab": {
          "base_uri": "https://localhost:8080/"
        },
        "id": "qrD8D-x6aoV_",
        "outputId": "500792c1-313a-4c84-e8e5-a397bac58f68"
      },
      "execution_count": null,
      "outputs": [
        {
          "output_type": "stream",
          "name": "stdout",
          "text": [
            "The percentage of total variance in the dataset explained by each component from Sklearn PCA.\n",
            " [0.34208087 0.19684417]\n"
          ]
        }
      ]
    }
  ]
}